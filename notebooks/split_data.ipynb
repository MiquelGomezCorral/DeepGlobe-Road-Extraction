{
 "cells": [
  {
   "cell_type": "markdown",
   "id": "0",
   "metadata": {},
   "source": [
    "# BASIC IMPORTS"
   ]
  },
  {
   "cell_type": "code",
   "execution_count": null,
   "id": "1",
   "metadata": {},
   "outputs": [],
   "source": [
    "import os\n",
    "\n",
    "print(os.getcwd())\n",
    "if not os.getcwd().endswith(\"app\"):\n",
    "    os.chdir(\"../app\")\n",
    "    print(os.getcwd())\n",
    "\n",
    "%load_ext autoreload\n",
    "%autoreload 2"
   ]
  },
  {
   "cell_type": "markdown",
   "id": "2",
   "metadata": {},
   "source": [
    "# Data augmentation and split"
   ]
  },
  {
   "cell_type": "code",
   "execution_count": null,
   "id": "3",
   "metadata": {},
   "outputs": [],
   "source": [
    "from maikol_utils.file_utils import make_dirs, list_dir_files\n",
    "from src.config import Configuration\n",
    "from src.data import SampleImage\n",
    "\n",
    "CONFIG = Configuration()\n",
    "\n",
    "# Destination samples\n",
    "make_dirs([\n",
    "    CONFIG.train_img_folder, \n",
    "    CONFIG.train_gt_folder, \n",
    "    CONFIG.val_img_folder, \n",
    "    CONFIG.val_gt_folder, \n",
    "    CONFIG.test_img_folder, \n",
    "    CONFIG.test_gt_folder, \n",
    "])\n",
    "\n",
    "# Get image pairs\n",
    "original_files = list_dir_files(\n",
    "    CONFIG.data_raw_path, \n",
    "    nat_sorting=True, # Number to be properly sorted\n",
    "    absolute_path=True, \n",
    "    # x2 because we have image and groundtruth.\n",
    "    max_files=2*CONFIG.max_samples if CONFIG.max_samples is not None else None\n",
    ")\n",
    "path_imges_X = [img for img in original_files if '_sat' in img]\n",
    "path_imges_Y = [img for img in original_files if '_mask' in img]"
   ]
  },
  {
   "cell_type": "code",
   "execution_count": null,
   "id": "4",
   "metadata": {},
   "outputs": [],
   "source": [
    "sample_points = [\n",
    "    SampleImage(path_img_x, path_img_y)\n",
    "    for path_img_x, path_img_y in zip(path_imges_X, path_imges_Y)\n",
    "]\n",
    "\n"
   ]
  },
  {
   "cell_type": "code",
   "execution_count": null,
   "id": "5",
   "metadata": {},
   "outputs": [],
   "source": [
    "for i, sample in enumerate(sample_points):\n",
    "    # Save the original image and truth to the custom folder\n",
    "    original_image.save(os.path.join(images_dir, f\"satImage_{i + 1}_0_0.png\"))\n",
    "    original_truth.save(os.path.join(groundtruth_dir, f\"satImage_{i + 1}_0_0.png\"))\n",
    "\n",
    "    # Apply pipeline transformations\n",
    "    apply_pipeline(sample, pipelines, i + 1, custom_dir, settings)\n",
    "\n",
    "# PART FOUR: DELETE BASE IMAGE AND TRUTH FOLDERS\n",
    "shutil.rmtree(base_image_dir)\n",
    "shutil.rmtree(base_truth_dir)"
   ]
  }
 ],
 "metadata": {
  "kernelspec": {
   "display_name": "venv",
   "language": "python",
   "name": "python3"
  },
  "language_info": {
   "codemirror_mode": {
    "name": "ipython",
    "version": 3
   },
   "file_extension": ".py",
   "mimetype": "text/x-python",
   "name": "python",
   "nbconvert_exporter": "python",
   "pygments_lexer": "ipython3",
   "version": "3.12.3"
  }
 },
 "nbformat": 4,
 "nbformat_minor": 5
}
